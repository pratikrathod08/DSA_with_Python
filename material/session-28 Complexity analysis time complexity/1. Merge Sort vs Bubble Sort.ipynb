{
 "cells": [
  {
   "cell_type": "markdown",
   "id": "d868b5be-1f20-491f-a677-13f9f82b7587",
   "metadata": {},
   "source": [
    "# TIME COMPLEXITY"
   ]
  },
  {
   "cell_type": "code",
   "execution_count": null,
   "id": "429f229e-77f2-42f5-8f65-bf9451fcaede",
   "metadata": {},
   "outputs": [],
   "source": []
  },
  {
   "cell_type": "markdown",
   "id": "a7fcccf2-0bed-4186-a33d-4d486d3156f5",
   "metadata": {},
   "source": [
    "## Merge sort algo"
   ]
  },
  {
   "cell_type": "code",
   "execution_count": 5,
   "id": "6f5e9ae0-d9a8-4994-8d5d-02da859aad12",
   "metadata": {},
   "outputs": [
    {
     "name": "stdout",
     "output_type": "stream",
     "text": [
      "Time taken to sort an array of size 10: 897000 nanoseconds\n",
      "Time taken to sort an array of size 100: 508000 nanoseconds\n",
      "Time taken to sort an array of size 1000: 7188000 nanoseconds\n",
      "Time taken to sort an array of size 10000: 77116000 nanoseconds\n",
      "Time taken to sort an array of size 100000: 810568000 nanoseconds\n",
      "Time taken to sort an array of size 1000000: 9072920000 nanoseconds\n"
     ]
    }
   ],
   "source": [
    "import time\n",
    "import numpy as np\n",
    "\n",
    "\n",
    "\n",
    "def merge_sort(arr):\n",
    "    # Merge Sort algorithm to sort the array\n",
    "    if len(arr) > 1:\n",
    "        mid = len(arr) // 2  # Find the middle of the array\n",
    "        left_half = arr[:mid]  # Divide the array elements into two halves\n",
    "        right_half = arr[mid:]\n",
    "\n",
    "        merge_sort(left_half)  # Sort the first half\n",
    "        merge_sort(right_half)  # Sort the second half\n",
    "\n",
    "\n",
    "        i = j = k = 0\n",
    "\n",
    "     # Copy data to temp arrays L[] and R[]\n",
    "        while i < len(left_half) and j < len(right_half):\n",
    "            if left_half[i] < right_half[j]:\n",
    "                arr[k] = left_half[i]\n",
    "                i += 1\n",
    "            else:\n",
    "                arr[k] = right_half[j]\n",
    "                j += 1\n",
    "            k += 1\n",
    "    \n",
    "        # Checking if any element was left\n",
    "        while i < len(left_half):\n",
    "            arr[k] = left_half[i]\n",
    "            i += 1\n",
    "            k += 1\n",
    "    \n",
    "        while j < len(right_half):\n",
    "            arr[k] = right_half[j]\n",
    "            j += 1\n",
    "            k += 1\n",
    "\n",
    "       \n",
    "\n",
    "def measure_time_merge_sort():\n",
    "    # Measure the time taken for merge sort for different input sizes\n",
    "    input_sizes = [10**i for i in range(1, 7)]  # Input sizes: 10, 100, 1000, ..., 10^6\n",
    "    \n",
    "    for size in input_sizes:\n",
    "        arr = np.arange(size, 0, -1)  # Create an array from size to 1\n",
    "        start_time = time.time_ns()  # Get the start time in nanoseconds\n",
    "        merge_sort(arr)  # Sort the array using merge sort\n",
    "        end_time = time.time_ns()  # Get the end time in nanoseconds\n",
    "        print(f\"Time taken to sort an array of size {size}: {(end_time - start_time)} nanoseconds\")\n",
    "\n",
    "if __name__ == \"__main__\":\n",
    "    measure_time_merge_sort()\n"
   ]
  },
  {
   "cell_type": "code",
   "execution_count": null,
   "id": "54da8b2c-e84f-45f7-8de3-ab0894c9c433",
   "metadata": {},
   "outputs": [],
   "source": []
  },
  {
   "cell_type": "code",
   "execution_count": null,
   "id": "aff9e24f-04ee-4029-ad7f-0742e15ec1fe",
   "metadata": {},
   "outputs": [],
   "source": []
  },
  {
   "cell_type": "markdown",
   "id": "8bb99d0a-2fe9-4f2d-8a91-a0d49ab51fa5",
   "metadata": {},
   "source": [
    "## Bubble Sort"
   ]
  },
  {
   "cell_type": "code",
   "execution_count": null,
   "id": "97829205-1e12-4609-abdb-5b3812038241",
   "metadata": {},
   "outputs": [
    {
     "name": "stdout",
     "output_type": "stream",
     "text": [
      "Time taken to sort an array of size 10: 159000 nanoseconds\n",
      "Time taken to sort an array of size 100: 3619000 nanoseconds\n",
      "Time taken to sort an array of size 1000: 161959000 nanoseconds\n",
      "Time taken to sort an array of size 10000: 13048146000 nanoseconds\n",
      "Time taken to sort an array of size 100000: 1492280917000 nanoseconds\n"
     ]
    }
   ],
   "source": [
    "import time\n",
    "import numpy as np\n",
    "\n",
    "def bubble_sort(arr):\n",
    "\n",
    "    # Bubble Sort algorithm to sort the array\n",
    "    n = len(arr)\n",
    "    for i in range(n):\n",
    "        # Traverse the array from 0 to n-i-1\n",
    "        for j in range(0, n-i-1):\n",
    "            # Swap if the element found is greater than the next element\n",
    "            if arr[j] > arr[j+1]:\n",
    "                arr[j], arr[j+1] = arr[j+1], arr[j]\n",
    "\n",
    "def measure_time_bubble_sort():\n",
    "    # Measure the time taken for bubble sort for different input sizes\n",
    "    input_sizes = [10**i for i in range(1, 7)]  # Input sizes: 10, 100, 1000, ..., 10^6\n",
    "    \n",
    "    for size in input_sizes:\n",
    "        arr = np.arange(size, 0, -1)  # Create an array from size to 1\n",
    "        start_time = time.time_ns()  # Get the start time in nanoseconds\n",
    "        bubble_sort(arr)  # Sort the array using bubble sort\n",
    "        end_time = time.time_ns()  # Get the end time in nanoseconds\n",
    "        print(f\"Time taken to sort an array of size {size}: {end_time - start_time} nanoseconds\")\n",
    "\n",
    "measure_time_bubble_sort()\n"
   ]
  }
 ],
 "metadata": {
  "kernelspec": {
   "display_name": "Python 3 (ipykernel)",
   "language": "python",
   "name": "python3"
  },
  "language_info": {
   "codemirror_mode": {
    "name": "ipython",
    "version": 3
   },
   "file_extension": ".py",
   "mimetype": "text/x-python",
   "name": "python",
   "nbconvert_exporter": "python",
   "pygments_lexer": "ipython3",
   "version": "3.11.5"
  }
 },
 "nbformat": 4,
 "nbformat_minor": 5
}
