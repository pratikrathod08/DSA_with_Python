{
 "cells": [
  {
   "cell_type": "markdown",
   "metadata": {},
   "source": [
    "# Time Complexity Analysis Questions\n",
    "\n",
    "In this notebook, we present a series of Python questions that focus on understanding and analyzing time complexity.\n",
    "These questions are designed to increase in complexity, providing a comprehensive understanding of the concept."
   ]
  },
  {
   "cell_type": "code",
   "execution_count": null,
   "metadata": {},
   "outputs": [],
   "source": [
    "https://www.bigocheatsheet.com"
   ]
  },
  {
   "cell_type": "markdown",
   "metadata": {},
   "source": [
    "### 1. What is the time complexity of the following code?\n",
    "\n",
    "```python\n",
    "a = 0\n",
    "for i in range(N):\n",
    "    a = a + i\n",
    "```\n",
    "\n",
    "Write your analysis below:\n"
   ]
  },
  {
   "cell_type": "markdown",
   "metadata": {},
   "source": [
    "### 2. What is the time complexity of the following code?\n",
    "\n",
    "```python\n",
    "a = 0\n",
    "for i in range(N):\n",
    "    for j in range(N):\n",
    "        a = a + i + j\n",
    "```\n",
    "\n",
    "Write your analysis below:\n"
   ]
  },
  {
   "cell_type": "markdown",
   "metadata": {},
   "source": [
    "### 3. What is the time complexity of the following code?\n",
    "\n",
    "```python\n",
    "a = 0\n",
    "for i in range(N):\n",
    "    for j in range(i):\n",
    "        a = a + i + j\n",
    "```\n",
    "\n",
    "Write your analysis below:\n"
   ]
  },
  {
   "cell_type": "markdown",
   "metadata": {},
   "source": [
    "### 4. What is the time complexity of the following code?\n",
    "\n",
    "```python\n",
    "a = 0\n",
    "for i in range(N):\n",
    "    for j in range(N, i, -1):\n",
    "        a = a + i + j\n",
    "```\n",
    "\n",
    "Write your analysis below:\n"
   ]
  },
  {
   "cell_type": "markdown",
   "metadata": {},
   "source": [
    "### 5. What is the time complexity of the following code?\n",
    "\n",
    "```python\n",
    "a = 0\n",
    "for i in range(N):\n",
    "    for j in range(N):\n",
    "        for k in range(N):\n",
    "            a = a + i + j + k\n",
    "```\n",
    "\n",
    "Write your analysis below:\n"
   ]
  },
  {
   "cell_type": "markdown",
   "metadata": {},
   "source": [
    "### 6. What is the time complexity of the following code?\n",
    "\n",
    "```python\n",
    "a = 0\n",
    "i = 0\n",
    "while i < N:\n",
    "    a = a + i\n",
    "    i *= 2\n",
    "```\n",
    "\n",
    "Write your analysis below:\n"
   ]
  },
  {
   "cell_type": "markdown",
   "metadata": {},
   "source": [
    "### 7. What is the time complexity of the following code?\n",
    "\n",
    "```python\n",
    "a = 0\n",
    "i = 1\n",
    "while i < N:\n",
    "    a = a + i\n",
    "    i *= 3\n",
    "```\n",
    "\n",
    "Write your analysis below:\n"
   ]
  },
  {
   "cell_type": "markdown",
   "metadata": {},
   "source": [
    "### 8. What is the time complexity of the following code?\n",
    "\n",
    "```python\n",
    "a = 0\n",
    "for i in range(N):\n",
    "    for j in range(i, N):\n",
    "        for k in range(j, N):\n",
    "            a = a + i + j + k\n",
    "```\n",
    "\n",
    "Write your analysis below:\n"
   ]
  },
  {
   "cell_type": "markdown",
   "metadata": {},
   "source": [
    "### 9. What is the time complexity of the following recursive function?\n",
    "\n",
    "```python\n",
    "def recursive_function(n):\n",
    "    if n <= 1:\n",
    "        return 1\n",
    "    else:\n",
    "        return recursive_function(n-1) + recursive_function(n-1)\n",
    "```\n",
    "\n",
    "Write your analysis below:\n"
   ]
  },
  {
   "cell_type": "markdown",
   "metadata": {},
   "source": [
    "### 10. What is the time complexity of the following code?\n",
    "\n",
    "```python\n",
    "import math\n",
    "\n",
    "a = 0\n",
    "for i in range(N):\n",
    "    for j in range(int(math.sqrt(N))):\n",
    "        a = a + i + j\n",
    "```\n",
    "\n",
    "Write your analysis below:\n"
   ]
  },
  {
   "cell_type": "markdown",
   "metadata": {},
   "source": [
    "## Solutions"
   ]
  },
  {
   "cell_type": "markdown",
   "metadata": {},
   "source": [
    "### 1. Solution\n",
    "**Code:**\n",
    "```python\n",
    "a = 0\n",
    "for i in range(N):\n",
    "    a = a + i\n",
    "```\n",
    "**Explanation:** This code runs a loop N times, so the time complexity is **O(N)**."
   ]
  },
  {
   "cell_type": "markdown",
   "metadata": {},
   "source": [
    "### 2. Solution\n",
    "**Code:**\n",
    "```python\n",
    "a = 0\n",
    "for i in range(N):\n",
    "    for j in range(N):\n",
    "        a = a + i + j\n",
    "```\n",
    "**Explanation:** The nested loops each run N times, resulting in a time complexity of **O(N^2)**."
   ]
  },
  {
   "cell_type": "markdown",
   "metadata": {},
   "source": [
    "### 3. Solution\n",
    "**Code:**\n",
    "```python\n",
    "a = 0\n",
    "for i in range(N):\n",
    "    for j in range(i):\n",
    "        a = a + i + j\n",
    "```\n",
    "**Explanation:** The outer loop runs N times, while the inner loop runs i times. The total time complexity is **O(N^2)**."
   ]
  },
  {
   "cell_type": "markdown",
   "metadata": {},
   "source": [
    "### 4. Solution\n",
    "**Code:**\n",
    "```python\n",
    "a = 0\n",
    "for i in range(N):\n",
    "    for j in range(N, i, -1):\n",
    "        a = a + i + j\n",
    "```\n",
    "**Explanation:** The outer loop runs N times, and the inner loop runs (N - i) times. This results in a time complexity of **O(N^2)**."
   ]
  },
  {
   "cell_type": "markdown",
   "metadata": {},
   "source": [
    "### 5. Solution\n",
    "**Code:**\n",
    "```python\n",
    "a = 0\n",
    "for i in range(N):\n",
    "    for j in range(N):\n",
    "        for k in range(N):\n",
    "            a = a + i + j + k\n",
    "```\n",
    "**Explanation:** Three nested loops each run N times, resulting in a time complexity of **O(N^3)**."
   ]
  },
  {
   "cell_type": "markdown",
   "metadata": {},
   "source": [
    "### 6. Solution\n",
    "**Code:**\n",
    "```python\n",
    "a = 0\n",
    "i = 0\n",
    "while i < N:\n",
    "    a = a + i\n",
    "    i *= 2\n",
    "```\n",
    "**Explanation:** The loop runs log(N) times because `i` is doubling each iteration. The time complexity is **O(log N)**."
   ]
  },
  {
   "cell_type": "markdown",
   "metadata": {},
   "source": [
    "### 7. Solution\n",
    "**Code:**\n",
    "```python\n",
    "a = 0\n",
    "i = 1\n",
    "while i < N:\n",
    "    a = a + i\n",
    "    i *= 3\n",
    "```\n",
    "**Explanation:** The loop runs log(N) base 3 times because `i` is tripling each iteration. The time complexity is **O(log N)**."
   ]
  },
  {
   "cell_type": "markdown",
   "metadata": {},
   "source": [
    "### 8. Solution\n",
    "**Code:**\n",
    "```python\n",
    "a = 0\n",
    "for i in range(N):\n",
    "    for j in range(i, N):\n",
    "        for k in range(j, N):\n",
    "            a = a + i + j + k\n",
    "```\n",
    "**Explanation:** The complexity for this nested loop structure is **O(N^3)** as the number of iterations increases at each nested level."
   ]
  },
  {
   "cell_type": "markdown",
   "metadata": {},
   "source": [
    "### 9. Solution\n",
    "**Code:**\n",
    "```python\n",
    "def recursive_function(n):\n",
    "    if n <= 1:\n",
    "        return 1\n",
    "    else:\n",
    "        return recursive_function(n-1) + recursive_function(n-1)\n",
    "```\n",
    "**Explanation:** This recursive function has two recursive calls per execution. Therefore, the time complexity is **O(2^N)**."
   ]
  },
  {
   "cell_type": "markdown",
   "metadata": {},
   "source": [
    "### 10. Solution\n",
    "**Code:**\n",
    "```python\n",
    "import math\n",
    "\n",
    "a = 0\n",
    "for i in range(N):\n",
    "    for j in range(int(math.sqrt(N))):\n",
    "        a = a + i + j\n",
    "```\n",
    "**Explanation:** The outer loop runs N times, and the inner loop runs sqrt(N) times. The overall time complexity is **O(N * sqrt(N))**."
   ]
  }
 ],
 "metadata": {
  "kernelspec": {
   "display_name": "Python 3 (ipykernel)",
   "language": "python",
   "name": "python3"
  },
  "language_info": {
   "codemirror_mode": {
    "name": "ipython",
    "version": 3
   },
   "file_extension": ".py",
   "mimetype": "text/x-python",
   "name": "python",
   "nbconvert_exporter": "python",
   "pygments_lexer": "ipython3",
   "version": "3.11.5"
  }
 },
 "nbformat": 4,
 "nbformat_minor": 4
}
