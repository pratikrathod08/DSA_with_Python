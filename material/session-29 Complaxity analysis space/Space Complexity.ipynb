{
 "cells": [
  {
   "cell_type": "code",
   "execution_count": 8,
   "id": "e1b11962-bd8f-42ba-abe7-3977ab056844",
   "metadata": {},
   "outputs": [
    {
     "data": {
      "text/plain": [
       "28"
      ]
     },
     "execution_count": 8,
     "metadata": {},
     "output_type": "execute_result"
    }
   ],
   "source": [
    "import sys\n",
    "a = 4\n",
    "sys.getsizeof(a)"
   ]
  },
  {
   "cell_type": "code",
   "execution_count": null,
   "id": "0b61c5ff-0356-4444-a960-f44fc0e93920",
   "metadata": {},
   "outputs": [],
   "source": [
    "\n",
    "def insertionSort(array):\n",
    "    for step in range(1, len(array)):\n",
    "        key = array[step]\n",
    "        j = step - 1\n",
    "        \n",
    "        while j >= 0 and key < array[j]:\n",
    "            array[j + 1] = array[j]\n",
    "            j = j - 1\n",
    "        \n",
    "        array[j + 1] = key"
   ]
  },
  {
   "cell_type": "code",
   "execution_count": null,
   "id": "cf2fb307-c665-4932-9abb-e51fdd8e8859",
   "metadata": {},
   "outputs": [],
   "source": [
    "array = []\n",
    "\n",
    "\n",
    "ans=array[0]\n",
    "\n",
    "for i in array:\n",
    "    if(array[i]>ans):\n",
    "        ans = array[i]\n",
    "\n",
    "print(ans)"
   ]
  }
 ],
 "metadata": {
  "kernelspec": {
   "display_name": "Python 3 (ipykernel)",
   "language": "python",
   "name": "python3"
  },
  "language_info": {
   "codemirror_mode": {
    "name": "ipython",
    "version": 3
   },
   "file_extension": ".py",
   "mimetype": "text/x-python",
   "name": "python",
   "nbconvert_exporter": "python",
   "pygments_lexer": "ipython3",
   "version": "3.11.5"
  }
 },
 "nbformat": 4,
 "nbformat_minor": 5
}
