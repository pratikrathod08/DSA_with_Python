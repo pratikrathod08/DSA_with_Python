{
 "cells": [
  {
   "attachments": {},
   "cell_type": "markdown",
   "metadata": {},
   "source": [
    "### Decorators \n",
    "\n",
    "Decorators are a powerful feature in Python that allow you to modify the behavior of functions or classes without changing their actual code. They are widely used for logging, authentication, timing functions, caching, etc."
   ]
  },
  {
   "attachments": {},
   "cell_type": "markdown",
   "metadata": {},
   "source": [
    "- How Do Decorators Work?  \n",
    "A decorator is just a function that takes another function as input, adds some functionality, and returns the modified function."
   ]
  },
  {
   "cell_type": "code",
   "execution_count": 1,
   "metadata": {},
   "outputs": [
    {
     "name": "stdout",
     "output_type": "stream",
     "text": [
      "Before function execution\n",
      "Hello!\n",
      "After function execution\n"
     ]
    }
   ],
   "source": [
    "## Basic example without using @ \n",
    "\n",
    "def my_decorator(func):\n",
    "    def wrapper():\n",
    "        print(\"Before function execution\")\n",
    "        func()\n",
    "        print(\"After function execution\")\n",
    "    return wrapper\n",
    "\n",
    "def say_hello():\n",
    "    print(\"Hello!\")\n",
    "\n",
    "# Manually applying the decorator\n",
    "say_hello = my_decorator(say_hello)\n",
    "\n",
    "say_hello()\n"
   ]
  },
  {
   "cell_type": "code",
   "execution_count": 2,
   "metadata": {},
   "outputs": [
    {
     "name": "stdout",
     "output_type": "stream",
     "text": [
      "Before function execution\n",
      "Hello!\n",
      "After function execution\n"
     ]
    }
   ],
   "source": [
    "# Using the @decorator Syntax\n",
    "\n",
    "def my_decorator(func):\n",
    "    def wrapper():\n",
    "        print(\"Before function execution\")\n",
    "        func()\n",
    "        print(\"After function execution\")\n",
    "    return wrapper\n",
    "\n",
    "@my_decorator\n",
    "def say_hello():\n",
    "    print(\"Hello!\")\n",
    "\n",
    "say_hello()\n"
   ]
  },
  {
   "cell_type": "code",
   "execution_count": 3,
   "metadata": {},
   "outputs": [
    {
     "name": "stdout",
     "output_type": "stream",
     "text": [
      "Function is about to be executed\n",
      "Function execution completed\n",
      "15\n"
     ]
    }
   ],
   "source": [
    "# Decorators with Arguments\n",
    "\n",
    "def my_decorator(func):\n",
    "    def wrapper(*args, **kwargs):\n",
    "        print(\"Function is about to be executed\")\n",
    "        result = func(*args, **kwargs)\n",
    "        print(\"Function execution completed\")\n",
    "        return result\n",
    "    return wrapper\n",
    "\n",
    "@my_decorator\n",
    "def add(a, b):\n",
    "    return a + b\n",
    "\n",
    "print(add(5, 10))\n"
   ]
  },
  {
   "cell_type": "code",
   "execution_count": 10,
   "metadata": {},
   "outputs": [
    {
     "name": "stdout",
     "output_type": "stream",
     "text": [
      "start\n",
      "THis is hello 1 function \n",
      "End\n"
     ]
    }
   ],
   "source": [
    "## Self create decorator \n",
    "\n",
    "def dec(func):\n",
    "    def wrapper():\n",
    "        print(\"start\")\n",
    "        func()\n",
    "        print(\"End\")\n",
    "    return wrapper\n",
    "\n",
    "def hello():\n",
    "    print(\"Hi i am hello function \")\n",
    "\n",
    "\n",
    "## Try without @ symbol \n",
    "\n",
    "# res = dec(hello)\n",
    "# res()\n",
    "\n",
    "## Try with @ \n",
    "\n",
    "@dec\n",
    "def hello1():\n",
    "    print(\"THis is hello 1 function \")\n",
    "\n",
    "hello1()\n",
    "\n",
    "\n"
   ]
  },
  {
   "cell_type": "code",
   "execution_count": 11,
   "metadata": {},
   "outputs": [
    {
     "name": "stdout",
     "output_type": "stream",
     "text": [
      "start\n",
      "-1\n",
      "End\n"
     ]
    }
   ],
   "source": [
    "## Decorator with argumants \n",
    "\n",
    "def dec(func):\n",
    "    def wrapper(*args, **kwargs):\n",
    "        print(\"start\")\n",
    "        result = func(*args, **kwargs)\n",
    "        print(result)\n",
    "        print(\"End\")\n",
    "    return wrapper\n",
    "\n",
    "@dec\n",
    "def sub(a, b):\n",
    "    return a-b\n",
    "\n",
    "sub(1,2)"
   ]
  },
  {
   "cell_type": "code",
   "execution_count": null,
   "metadata": {},
   "outputs": [],
   "source": []
  }
 ],
 "metadata": {
  "kernelspec": {
   "display_name": "base",
   "language": "python",
   "name": "python3"
  },
  "language_info": {
   "codemirror_mode": {
    "name": "ipython",
    "version": 3
   },
   "file_extension": ".py",
   "mimetype": "text/x-python",
   "name": "python",
   "nbconvert_exporter": "python",
   "pygments_lexer": "ipython3",
   "version": "3.9.12"
  },
  "orig_nbformat": 4
 },
 "nbformat": 4,
 "nbformat_minor": 2
}
