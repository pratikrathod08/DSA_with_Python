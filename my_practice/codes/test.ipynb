{
 "cells": [
  {
   "cell_type": "code",
   "execution_count": 2,
   "metadata": {},
   "outputs": [],
   "source": [
    "def generate_hollow_square(n):\n",
    "    \"\"\"\n",
    "    Function to return a hollow square pattern of '*' of side n as a list of strings.\n",
    "    \n",
    "    Parameters:\n",
    "    n (int): The size of the square.\n",
    "    \n",
    "    Returns:\n",
    "    list: A list of strings where each string represents a row of the hollow square.\n",
    "    \"\"\"\n",
    "    # Your code here\n",
    "\n",
    "    pattern = []\n",
    "    \n",
    "    for i in range(n):\n",
    "        if i == 0:\n",
    "            pattern.append(n*'*')\n",
    "        elif i == (n-1): \n",
    "            pattern.append(n*'*')\n",
    "        else:\n",
    "            str1 = \"\"\n",
    "            for i in range(n):\n",
    "                if i == 0:\n",
    "                    str1 += \"*\"\n",
    "                elif i == (n-1):\n",
    "                    str1 += \"*\"\n",
    "                else:\n",
    "                    str1 += \" \"\n",
    "            pattern.append(str1)\n",
    "    return pattern\n"
   ]
  },
  {
   "cell_type": "code",
   "execution_count": 8,
   "metadata": {},
   "outputs": [],
   "source": [
    "def generate_inverted_triangle(n):\n",
    "    \"\"\"\n",
    "    Function to return an inverted right-angled triangle of '*' of side n as a list of strings.\n",
    "    \n",
    "    Parameters:\n",
    "    n (int): The height and base of the triangle.\n",
    "    \n",
    "    Returns:\n",
    "    list: A list of strings where each string represents a row of the triangle.\n",
    "    \"\"\"\n",
    "    # Your code here\n",
    "    \n",
    "    pattern = []\n",
    "    num = n\n",
    "    for i in range(n):\n",
    "        pattern.append(\"*\" * num)\n",
    "        num -= 1\n",
    "    return pattern"
   ]
  },
  {
   "cell_type": "code",
   "execution_count": 9,
   "metadata": {},
   "outputs": [
    {
     "data": {
      "text/plain": [
       "['*****', '****', '***', '**', '*']"
      ]
     },
     "execution_count": 9,
     "metadata": {},
     "output_type": "execute_result"
    }
   ],
   "source": [
    "generate_inverted_triangle(5)"
   ]
  },
  {
   "cell_type": "code",
   "execution_count": 85,
   "metadata": {},
   "outputs": [],
   "source": [
    "def generate_pyramid(n):\n",
    "    \"\"\"\n",
    "    Function to return a pyramid pattern of '*' of side n as a list of strings.\n",
    "    \n",
    "    Parameters:\n",
    "    n (int): The number of rows in the pyramid.\n",
    "    \n",
    "    Returns:\n",
    "    list: A list of strings where each string represents a row of the pyramid.\n",
    "    \"\"\"\n",
    "    # Your code here\n",
    "    \n",
    "    pattern = []\n",
    " \n",
    "    for i in range(n*2):\n",
    "        if i%2 != 0:\n",
    "            print(i, \"considered\")\n",
    "            str1 = \"*\"*i\n",
    "            str1 =str1.center(n*2)\n",
    "            print(str1)\n",
    "    return pattern"
   ]
  },
  {
   "cell_type": "code",
   "execution_count": 86,
   "metadata": {},
   "outputs": [
    {
     "name": "stdout",
     "output_type": "stream",
     "text": [
      "1 considered\n",
      "    *     \n",
      "3 considered\n",
      "   ***    \n",
      "5 considered\n",
      "  *****   \n",
      "7 considered\n",
      " *******  \n",
      "9 considered\n",
      "********* \n"
     ]
    }
   ],
   "source": [
    "for i in generate_pyramid(5):\n",
    "    print(i)"
   ]
  },
  {
   "cell_type": "code",
   "execution_count": 17,
   "metadata": {},
   "outputs": [
    {
     "ename": "NameError",
     "evalue": "name 'blank' is not defined",
     "output_type": "error",
     "traceback": [
      "\u001b[1;31m---------------------------------------------------------------------------\u001b[0m",
      "\u001b[1;31mNameError\u001b[0m                                 Traceback (most recent call last)",
      "Cell \u001b[1;32mIn[17], line 1\u001b[0m\n\u001b[1;32m----> 1\u001b[0m \u001b[39m\"\u001b[39m\u001b[39m \u001b[39m\u001b[39m\"\u001b[39m\u001b[39m*\u001b[39mblank\n",
      "\u001b[1;31mNameError\u001b[0m: name 'blank' is not defined"
     ]
    }
   ],
   "source": [
    "\" \"*blank"
   ]
  },
  {
   "cell_type": "code",
   "execution_count": 26,
   "metadata": {},
   "outputs": [],
   "source": [
    "pyramid = []\n",
    "\n",
    "# Loop through each row from 1 to n\n",
    "for i in range(1, n + 1):\n",
    "    # Number of stars in the current row is 2 * i - 1\n",
    "    stars = '*' * (2 * i - 1)\n",
    "    # Number of leading spaces to center the stars is n - i\n",
    "    spaces = ' ' * (n - i)\n",
    "    # Add the centered row to the list\n",
    "    pyramid.append(spaces + stars + spaces)\n",
    "\n",
    "# Return the list of pyramid rows\n",
    "return pyramid"
   ]
  },
  {
   "cell_type": "code",
   "execution_count": 27,
   "metadata": {},
   "outputs": [
    {
     "data": {
      "text/plain": [
       "'                                                       '"
      ]
     },
     "execution_count": 27,
     "metadata": {},
     "output_type": "execute_result"
    }
   ],
   "source": [
    "str1"
   ]
  },
  {
   "cell_type": "code",
   "execution_count": 84,
   "metadata": {},
   "outputs": [
    {
     "name": "stdout",
     "output_type": "stream",
     "text": [
      "0\n",
      "2\n",
      "4\n",
      "6\n",
      "8\n"
     ]
    }
   ],
   "source": [
    "for i in range(10):\n",
    "    if i%2 == 0:\n",
    "        print(i)"
   ]
  },
  {
   "cell_type": "code",
   "execution_count": 57,
   "metadata": {},
   "outputs": [],
   "source": [
    "pyramid = []\n",
    "for i in range(n , 0, -1):\n",
    "    space = \" \"*(n-i)\n",
    "    pattern = \"*\"*(i*2 - 1)\n",
    "    final_pattern = space + pattern + space\n",
    "    pyramid.append(final_pattern)\n",
    "    "
   ]
  },
  {
   "cell_type": "code",
   "execution_count": 58,
   "metadata": {},
   "outputs": [
    {
     "data": {
      "text/plain": [
       "['*****', ' *** ', '  *  ']"
      ]
     },
     "execution_count": 58,
     "metadata": {},
     "output_type": "execute_result"
    }
   ],
   "source": [
    "pyramid"
   ]
  },
  {
   "cell_type": "code",
   "execution_count": 64,
   "metadata": {},
   "outputs": [
    {
     "name": "stdout",
     "output_type": "stream",
     "text": [
      "['1', '23', '456', '78910', '12345']\n"
     ]
    }
   ],
   "source": [
    "n=5\n",
    "pyramid = []\n",
    "for i in range(1, n+1):\n",
    "    if i ==1 :\n",
    "        pyramid.append(str(i))\n",
    "    else:\n",
    "        str1 = \"\"\n",
    "        for j in range(int(pyramid[-1][-1])+1, (int(pyramid[-1][-1])+1)+int(i)):\n",
    "            str1 += str(j)\n",
    "        pyramid.append(str1)\n",
    "print(pyramid)\n"
   ]
  },
  {
   "cell_type": "code",
   "execution_count": 65,
   "metadata": {},
   "outputs": [
    {
     "data": {
      "text/plain": [
       "['1', '23', '456', '78910', '12345']"
      ]
     },
     "execution_count": 65,
     "metadata": {},
     "output_type": "execute_result"
    }
   ],
   "source": [
    "pyramid"
   ]
  },
  {
   "cell_type": "code",
   "execution_count": 115,
   "metadata": {},
   "outputs": [],
   "source": [
    "def generate_floyds_triangle(n):\n",
    "    \"\"\"\n",
    "    Function to return the first n rows of Floyd's Triangle as a list of strings.\n",
    "    \n",
    "    Parameters:\n",
    "    n (int): The number of rows in the triangle.\n",
    "    \n",
    "    Returns:\n",
    "    list: A list of strings where each string represents a row of Floyd's Triangle.\n",
    "    \"\"\"\n",
    "    # Your code here\n",
    "    \n",
    "    pyramid = []\n",
    "    if n == 1 :\n",
    "        pyramid.append(str(n))\n",
    "    elif n > 1:\n",
    "        count = 0\n",
    "        for i in range(1, n+1):\n",
    "            count += i\n",
    "        # print(count)\n",
    "        lst = [i for i in range(count+1) if i > 0]\n",
    "        print(lst , \"this is list\")\n",
    "        temp_count = 0\n",
    "        for j in range(n):\n",
    "            temp_count += j\n",
    "            print(\"this is temp count \", temp_count)\n",
    "            temp_str = \"\".join(str(k) for k in lst[temp_count:temp_count+j+1])\n",
    "            pyramid.append(temp_str)\n",
    "    \n",
    "    return pyramid\n",
    "\n",
    "\n",
    "\n"
   ]
  },
  {
   "cell_type": "code",
   "execution_count": 116,
   "metadata": {},
   "outputs": [
    {
     "name": "stdout",
     "output_type": "stream",
     "text": [
      "[1, 2, 3, 4, 5, 6, 7, 8, 9, 10, 11, 12, 13, 14, 15] this is list\n",
      "this is temp count  0\n",
      "this is temp count  1\n",
      "this is temp count  3\n",
      "this is temp count  6\n",
      "this is temp count  10\n"
     ]
    },
    {
     "data": {
      "text/plain": [
       "['1', '23', '456', '78910', '1112131415']"
      ]
     },
     "execution_count": 116,
     "metadata": {},
     "output_type": "execute_result"
    }
   ],
   "source": [
    "generate_floyds_triangle(5)"
   ]
  },
  {
   "cell_type": "code",
   "execution_count": 117,
   "metadata": {},
   "outputs": [],
   "source": [
    "def generate_floyds_triangle(n):\n",
    "    \"\"\"\n",
    "    Function to return the first n rows of Floyd's Triangle as a list of strings.\n",
    "    \n",
    "    Parameters:\n",
    "    n (int): The number of rows in the triangle.\n",
    "    \n",
    "    Returns:\n",
    "    list: A list of strings where each string represents a row of Floyd's Triangle.\n",
    "    \"\"\"\n",
    "    # Initialize an empty list to store the rows of the triangle\n",
    "    triangle = []\n",
    "    \n",
    "    # Initialize the first number to be used in the triangle\n",
    "    current_num = 1\n",
    "    \n",
    "    # Loop through each row from 1 to n\n",
    "    for i in range(1, n + 1):\n",
    "        # Create a row by collecting the next i numbers\n",
    "        row = ' '.join(str(current_num + j) for j in range(i))\n",
    "        # Append the row to the list\n",
    "        triangle.append(row)\n",
    "        # Update the current number for the next row\n",
    "        current_num += i\n",
    "    \n",
    "    # Return the list of rows\n",
    "    return triangle"
   ]
  },
  {
   "cell_type": "code",
   "execution_count": 118,
   "metadata": {},
   "outputs": [
    {
     "data": {
      "text/plain": [
       "['1', '2 3', '4 5 6', '7 8 9 10', '11 12 13 14 15']"
      ]
     },
     "execution_count": 118,
     "metadata": {},
     "output_type": "execute_result"
    }
   ],
   "source": [
    "generate_floyds_triangle(5)"
   ]
  },
  {
   "cell_type": "code",
   "execution_count": 46,
   "metadata": {},
   "outputs": [],
   "source": [
    "n = 3\n",
    "\n",
    "pyramid = []\n",
    "for i in range(1, n+1):\n",
    "    space = \" \"*(n-i)\n",
    "    pattern = \"*\"*(i*2 - 1)\n",
    "    pyramid.append(space+pattern+space)\n",
    "pyramid2 = []\n",
    "for i in pyramid[::-1]:\n",
    "    pyramid2.append(i)\n",
    "pyramid.extend(pyramid2[1:])"
   ]
  },
  {
   "cell_type": "code",
   "execution_count": 47,
   "metadata": {},
   "outputs": [
    {
     "data": {
      "text/plain": [
       "['  *  ', ' *** ', '*****', ' *** ', '  *  ']"
      ]
     },
     "execution_count": 47,
     "metadata": {},
     "output_type": "execute_result"
    }
   ],
   "source": [
    "pyramid"
   ]
  },
  {
   "cell_type": "code",
   "execution_count": 51,
   "metadata": {},
   "outputs": [
    {
     "name": "stdout",
     "output_type": "stream",
     "text": [
      "   *\n",
      "  **\n",
      " ***\n",
      "****\n"
     ]
    }
   ],
   "source": [
    "n = 4 \n",
    "\n",
    "pyramid = []\n",
    "for i in range(1, n+1):\n",
    "    space = \" \"*(n-i)\n",
    "    pattern = \"*\"*i\n",
    "    pyramid.append(space+pattern)"
   ]
  },
  {
   "cell_type": "code",
   "execution_count": 52,
   "metadata": {},
   "outputs": [],
   "source": [
    "n = 1\n",
    "\n",
    "if n < 2:\n",
    "    return None\n",
    "pyramid = []\n",
    "for i in range(1, n+1):\n",
    "    space = \" \"*(n-i)\n",
    "    pattern = \"*\"*i\n",
    "    pyramid.append(space+pattern)"
   ]
  },
  {
   "cell_type": "code",
   "execution_count": 53,
   "metadata": {},
   "outputs": [
    {
     "data": {
      "text/plain": [
       "['*']"
      ]
     },
     "execution_count": 53,
     "metadata": {},
     "output_type": "execute_result"
    }
   ],
   "source": [
    "pyramid"
   ]
  },
  {
   "cell_type": "code",
   "execution_count": 72,
   "metadata": {},
   "outputs": [
    {
     "data": {
      "text/plain": [
       "['*********',\n",
       " ' ******* ',\n",
       " '  *****  ',\n",
       " '   ***   ',\n",
       " '    *    ',\n",
       " '   ***   ',\n",
       " '  *****  ',\n",
       " ' ******* ',\n",
       " '*********']"
      ]
     },
     "execution_count": 72,
     "metadata": {},
     "output_type": "execute_result"
    }
   ],
   "source": [
    "n = 5\n",
    "\n",
    "pyramid = []\n",
    "for i in range(n):\n",
    "    pattern = \"*\"*((n-i)*2 - 1)\n",
    "    space = \" \"*i\n",
    "    pyramid.append(space+pattern+space)\n",
    "pyramid2 = [i for i in pyramid[::-1]]\n",
    "pyramid.extend(pyramid2[1:])\n",
    "pyramid"
   ]
  },
  {
   "cell_type": "code",
   "execution_count": 82,
   "metadata": {},
   "outputs": [],
   "source": [
    "def generate_hollow_right_angled_triangle(n):\n",
    "    \"\"\"\n",
    "    Function to return a hollow right-angled triangle of '*' of side n as a list of strings.\n",
    "    \n",
    "    Parameters:\n",
    "    n (int): The height of the triangle.\n",
    "    \n",
    "    Returns:\n",
    "    list: A list of strings where each string represents a row of the triangle.\n",
    "    \"\"\"\n",
    "    # Your code here\n",
    "    \n",
    "    pattern = []\n",
    "    \n",
    "    if n == 1:\n",
    "        return [\"*\"]\n",
    "    elif n == 2:\n",
    "        return [\"*\", \"**\"]\n",
    "    else:\n",
    "        for i in range(1, n+1):\n",
    "            if i == 1 or i == 2:\n",
    "                pattern.append(\"*\"*i)\n",
    "            elif i == n:\n",
    "                pattern.append(\"*\"*n)\n",
    "            elif i > 2:\n",
    "                start = \"*\"\n",
    "                end = \"*\"\n",
    "                pattern.append(start + \" \"*(i-2) + end)\n",
    "                \n",
    "        return pattern"
   ]
  },
  {
   "cell_type": "code",
   "execution_count": 83,
   "metadata": {},
   "outputs": [
    {
     "data": {
      "text/plain": [
       "['*', '**', '***']"
      ]
     },
     "execution_count": 83,
     "metadata": {},
     "output_type": "execute_result"
    }
   ],
   "source": [
    "generate_hollow_right_angled_triangle(3)"
   ]
  },
  {
   "cell_type": "code",
   "execution_count": 87,
   "metadata": {},
   "outputs": [
    {
     "name": "stdout",
     "output_type": "stream",
     "text": [
      "4\n",
      "3\n",
      "2\n",
      "1\n"
     ]
    }
   ],
   "source": [
    "n = 4 \n",
    "\n",
    "for i in range(n ,0, -1):\n",
    "    print(i)"
   ]
  },
  {
   "cell_type": "code",
   "execution_count": 102,
   "metadata": {},
   "outputs": [
    {
     "name": "stdout",
     "output_type": "stream",
     "text": [
      "1 this is i\n",
      "2 this is i\n",
      "3 this is i\n",
      "4 this is i\n",
      "5 this is i\n",
      "['    1    ', '   1 2   ', '  1 2 3  ', ' 1 2 3 4 ', '1 2 3 4 5']\n"
     ]
    }
   ],
   "source": [
    "# Input: 4\n",
    "# Output: ['   1   ', '  1 2  ', ' 1 2 3 ', '1 2 3 4']\n",
    " \n",
    "# Input: 3\n",
    "# Output: ['  1  ', ' 1 2 ', '1 2 3']\n",
    "n = 5\n",
    "\n",
    "pattern = []\n",
    "\n",
    "lst = []    \n",
    "for i in range(1, n+1):\n",
    "    print(i, \"this is i\")\n",
    "    lst.append(\" \".join([str(i) for i in range(1, i+1)]))\n",
    "length_need = len(lst[-1])\n",
    "revised = []\n",
    "for j in lst:\n",
    "    if len(j) < length_need:\n",
    "        diffrence = length_need - len(j)\n",
    "        k = diffrence//2\n",
    "        fill = \" \"*k\n",
    "        str_new = fill+j+fill \n",
    "        revised.append(str_new)\n",
    "    elif len(j) == length_need:\n",
    "        revised.append(j)\n",
    "print(revised)\n",
    "\n"
   ]
  },
  {
   "cell_type": "code",
   "execution_count": 2,
   "metadata": {},
   "outputs": [],
   "source": [
    "list1 = [1, 3, 5]\n",
    "list2 = [2, 4, 6]"
   ]
  },
  {
   "cell_type": "code",
   "execution_count": 3,
   "metadata": {},
   "outputs": [],
   "source": [
    "list1.extend(list2)"
   ]
  },
  {
   "cell_type": "code",
   "execution_count": 5,
   "metadata": {},
   "outputs": [],
   "source": [
    "list1.sort()"
   ]
  },
  {
   "cell_type": "code",
   "execution_count": 6,
   "metadata": {},
   "outputs": [
    {
     "data": {
      "text/plain": [
       "[1, 2, 3, 4, 5, 6]"
      ]
     },
     "execution_count": 6,
     "metadata": {},
     "output_type": "execute_result"
    }
   ],
   "source": [
    "list1"
   ]
  },
  {
   "cell_type": "code",
   "execution_count": 23,
   "metadata": {},
   "outputs": [],
   "source": [
    "def rotate_list(lst, k):\n",
    "    first = []\n",
    "    last = []\n",
    "    count = 0\n",
    "    while k > len(lst):\n",
    "        k = k - len(lst)\n",
    "    for i in lst[::-1]:\n",
    "        if count < k:\n",
    "            first.insert(0, i)\n",
    "            count += 1 \n",
    "        else:\n",
    "            last.insert(0, i)\n",
    "            count += 1\n",
    "\n",
    "    first.extend(last)\n",
    "    return first"
   ]
  },
  {
   "cell_type": "code",
   "execution_count": 24,
   "metadata": {},
   "outputs": [
    {
     "data": {
      "text/plain": [
       "[4, 5, 1, 2, 3]"
      ]
     },
     "execution_count": 24,
     "metadata": {},
     "output_type": "execute_result"
    }
   ],
   "source": [
    "rotate_list([1, 2, 3, 4, 5], 7)"
   ]
  },
  {
   "cell_type": "code",
   "execution_count": 15,
   "metadata": {},
   "outputs": [],
   "source": [
    "def rotate_list(lst, k):\n",
    "    # Handling the case where the list is empty\n",
    "    if not lst:\n",
    "        return []\n",
    "    \n",
    "    # Modulo to handle the case where k is greater than the length of the list\n",
    "    k = k % len(lst)\n",
    "    print(k)\n",
    "    \n",
    "    # Brute force approach using loops\n",
    "    for _ in range(k):\n",
    "        last_element = lst.pop()  # Remove the last element\n",
    "        lst.insert(0, last_element)  # Insert it at the front\n",
    "    \n",
    "    return lst"
   ]
  },
  {
   "cell_type": "code",
   "execution_count": 16,
   "metadata": {},
   "outputs": [
    {
     "name": "stdout",
     "output_type": "stream",
     "text": [
      "2\n"
     ]
    },
    {
     "data": {
      "text/plain": [
       "[4, 5, 1, 2, 3]"
      ]
     },
     "execution_count": 16,
     "metadata": {},
     "output_type": "execute_result"
    }
   ],
   "source": [
    "rotate_list([1, 2, 3, 4, 5], 7)"
   ]
  },
  {
   "cell_type": "code",
   "execution_count": 17,
   "metadata": {},
   "outputs": [
    {
     "data": {
      "text/plain": [
       "2"
      ]
     },
     "execution_count": 17,
     "metadata": {},
     "output_type": "execute_result"
    }
   ],
   "source": [
    "7 % 5"
   ]
  },
  {
   "cell_type": "code",
   "execution_count": 18,
   "metadata": {},
   "outputs": [
    {
     "data": {
      "text/plain": [
       "0"
      ]
     },
     "execution_count": 18,
     "metadata": {},
     "output_type": "execute_result"
    }
   ],
   "source": [
    "2 % 2 "
   ]
  },
  {
   "cell_type": "code",
   "execution_count": 19,
   "metadata": {},
   "outputs": [
    {
     "data": {
      "text/plain": [
       "2"
      ]
     },
     "execution_count": 19,
     "metadata": {},
     "output_type": "execute_result"
    }
   ],
   "source": [
    "2 % 4"
   ]
  },
  {
   "cell_type": "code",
   "execution_count": 31,
   "metadata": {},
   "outputs": [],
   "source": [
    "def merge_three_dictionaries(dict1, dict2, dict3):\n",
    "    dict_sample = {}\n",
    "    for dict_ in [dict3, dict2, dict1]:\n",
    "        for key, value in dict_.items():\n",
    "            dict_sample[key] = value\n",
    "    d = list(dict_sample.keys())\n",
    "    d.sort()\n",
    "    sd = {i: dict_sample[i] for i in d}\n",
    "    return sd"
   ]
  },
  {
   "cell_type": "code",
   "execution_count": 32,
   "metadata": {},
   "outputs": [
    {
     "data": {
      "text/plain": [
       "{'a': 1, 'b': 2, 'c': 3, 'd': 4, 'e': 5, 'f': 6}"
      ]
     },
     "execution_count": 32,
     "metadata": {},
     "output_type": "execute_result"
    }
   ],
   "source": [
    "merge_three_dictionaries({'a': 1, 'b': 2}, {'c': 3, 'd': 4}, {'e': 5, 'f': 6})"
   ]
  },
  {
   "cell_type": "code",
   "execution_count": 35,
   "metadata": {},
   "outputs": [],
   "source": [
    "sentence = \"\"\n",
    "lst = sentence.split(\" \")"
   ]
  },
  {
   "cell_type": "code",
   "execution_count": 36,
   "metadata": {},
   "outputs": [
    {
     "data": {
      "text/plain": [
       "['11']"
      ]
     },
     "execution_count": 36,
     "metadata": {},
     "output_type": "execute_result"
    }
   ],
   "source": [
    "lst"
   ]
  },
  {
   "cell_type": "code",
   "execution_count": 38,
   "metadata": {},
   "outputs": [
    {
     "data": {
      "text/plain": [
       "3"
      ]
     },
     "execution_count": 38,
     "metadata": {},
     "output_type": "execute_result"
    }
   ],
   "source": [
    "//2"
   ]
  },
  {
   "cell_type": "code",
   "execution_count": 5,
   "metadata": {},
   "outputs": [],
   "source": [
    "def is_prime(n):\n",
    "    \"\"\"\n",
    "    Function to check if a number is prime.\n",
    "    \n",
    "    Parameters:\n",
    "    n (int): The number to check.\n",
    "    \n",
    "    Returns:\n",
    "    bool: True if n is prime, False otherwise.\n",
    "    \"\"\"\n",
    "    prime = True\n",
    "    # Your code here\n",
    "    for i in range(2, n):\n",
    "        if n % i == 0:\n",
    "            print(n%i == 0, n, i)\n",
    "            prime = False\n",
    "    return prime"
   ]
  },
  {
   "cell_type": "code",
   "execution_count": 6,
   "metadata": {},
   "outputs": [
    {
     "data": {
      "text/plain": [
       "True"
      ]
     },
     "execution_count": 6,
     "metadata": {},
     "output_type": "execute_result"
    }
   ],
   "source": [
    "is_prime(5)"
   ]
  },
  {
   "cell_type": "code",
   "execution_count": 7,
   "metadata": {},
   "outputs": [
    {
     "name": "stdout",
     "output_type": "stream",
     "text": [
      "1\n",
      "4\n",
      "9\n",
      "16\n",
      "25\n",
      "36\n",
      "49\n",
      "64\n",
      "81\n",
      "100\n",
      "121\n",
      "144\n",
      "169\n",
      "196\n",
      "225\n",
      "256\n",
      "289\n",
      "324\n",
      "361\n"
     ]
    }
   ],
   "source": [
    "for i in range(1, 20):\n",
    "    print(i*i)"
   ]
  },
  {
   "cell_type": "code",
   "execution_count": 11,
   "metadata": {},
   "outputs": [],
   "source": [
    "def bubble_sort(lst):\n",
    "    passes = len(lst)\n",
    "    print(passes)\n",
    "    while passes > 0:\n",
    "        for index in range(passes-1):\n",
    "            if lst[index] > lst[index+1]:\n",
    "                print(lst[index] ,lst[index+1])\n",
    "                lst[index], lst[index+1] = lst[index+1], lst[index]\n",
    "                print(lst[index] ,lst[index+1])\n",
    "            if lst[passes-1] == max(lst):\n",
    "                print(\"max_set\")\n",
    "                passes -= 1\n",
    "                print(passes)\n",
    "    \n",
    "    return lst"
   ]
  },
  {
   "cell_type": "code",
   "execution_count": 12,
   "metadata": {},
   "outputs": [
    {
     "name": "stdout",
     "output_type": "stream",
     "text": [
      "5\n"
     ]
    },
    {
     "ename": "IndexError",
     "evalue": "list index out of range",
     "output_type": "error",
     "traceback": [
      "\u001b[1;31m---------------------------------------------------------------------------\u001b[0m",
      "\u001b[1;31mIndexError\u001b[0m                                Traceback (most recent call last)",
      "Cell \u001b[1;32mIn[12], line 1\u001b[0m\n\u001b[1;32m----> 1\u001b[0m bubble_sort([\u001b[39m1\u001b[39;49m,\u001b[39m2\u001b[39;49m,\u001b[39m3\u001b[39;49m,\u001b[39m4\u001b[39;49m,\u001b[39m4\u001b[39;49m])\n",
      "Cell \u001b[1;32mIn[11], line 10\u001b[0m, in \u001b[0;36mbubble_sort\u001b[1;34m(lst)\u001b[0m\n\u001b[0;32m      8\u001b[0m     lst[index], lst[index\u001b[39m+\u001b[39m\u001b[39m1\u001b[39m] \u001b[39m=\u001b[39m lst[index\u001b[39m+\u001b[39m\u001b[39m1\u001b[39m], lst[index]\n\u001b[0;32m      9\u001b[0m     \u001b[39mprint\u001b[39m(lst[index] ,lst[index\u001b[39m+\u001b[39m\u001b[39m1\u001b[39m])\n\u001b[1;32m---> 10\u001b[0m \u001b[39mif\u001b[39;00m lst[passes] \u001b[39m==\u001b[39m \u001b[39mmax\u001b[39m(lst):\n\u001b[0;32m     11\u001b[0m     \u001b[39mprint\u001b[39m(\u001b[39m\"\u001b[39m\u001b[39mmax_set\u001b[39m\u001b[39m\"\u001b[39m)\n\u001b[0;32m     12\u001b[0m     passes \u001b[39m-\u001b[39m\u001b[39m=\u001b[39m \u001b[39m1\u001b[39m\n",
      "\u001b[1;31mIndexError\u001b[0m: list index out of range"
     ]
    }
   ],
   "source": [
    "bubble_sort([1,2,3,4,4])"
   ]
  },
  {
   "cell_type": "code",
   "execution_count": 19,
   "metadata": {},
   "outputs": [],
   "source": [
    "def gcd(n, m):\n",
    "    \"\"\"\n",
    "    Function to find the GCD of two integers without using built-in functions and recursion.\n",
    "    \n",
    "    Parameters:\n",
    "    n (int): The first integer.\n",
    "    m (int): The second integer.\n",
    "    \n",
    "    Returns:\n",
    "    int: The GCD of n and m.\n",
    "    \"\"\"\n",
    "    # Your code here\n",
    "    while m != 0:\n",
    "        remainder = n % m\n",
    "        n = m\n",
    "        m = remainder\n",
    "    return n\n",
    "            "
   ]
  },
  {
   "cell_type": "code",
   "execution_count": 20,
   "metadata": {},
   "outputs": [
    {
     "data": {
      "text/plain": [
       "5"
      ]
     },
     "execution_count": 20,
     "metadata": {},
     "output_type": "execute_result"
    }
   ],
   "source": [
    "gcd(5, 25)"
   ]
  },
  {
   "cell_type": "code",
   "execution_count": 21,
   "metadata": {},
   "outputs": [
    {
     "data": {
      "text/plain": [
       "['hello', 'brother', 'how', 'r', 'u']"
      ]
     },
     "execution_count": 21,
     "metadata": {},
     "output_type": "execute_result"
    }
   ],
   "source": [
    "\"hello brother how r u\".split()"
   ]
  },
  {
   "cell_type": "code",
   "execution_count": 24,
   "metadata": {},
   "outputs": [
    {
     "name": "stdout",
     "output_type": "stream",
     "text": [
      "5\n"
     ]
    }
   ],
   "source": [
    "s = \"The quick brown fox jumps over the lazy dog\"\n",
    "s.split()\n",
    "\n",
    "max_length = 0\n",
    "for i in s.split():\n",
    "    if len(i) > max_length:\n",
    "        max_length = len(i)\n",
    "return max_length"
   ]
  },
  {
   "cell_type": "code",
   "execution_count": 31,
   "metadata": {},
   "outputs": [],
   "source": [
    "def insertion_sort(lst):\n",
    "    final_sorted = []\n",
    "    for i in lst:\n",
    "        if lst.index(i) == 0:\n",
    "            final_sorted.append(i)\n",
    "        else:\n",
    "            for j in lst:\n",
    "                if j < i:\n",
    "                    position = final_sorted.index(i)\n",
    "                    final_sorted.insert(j, position)\n",
    "                    break \n",
    "    return final_sorted\n",
    "                \n",
    "    pass"
   ]
  },
  {
   "cell_type": "code",
   "execution_count": 32,
   "metadata": {},
   "outputs": [
    {
     "ename": "ValueError",
     "evalue": "12 is not in list",
     "output_type": "error",
     "traceback": [
      "\u001b[1;31m---------------------------------------------------------------------------\u001b[0m",
      "\u001b[1;31mValueError\u001b[0m                                Traceback (most recent call last)",
      "Cell \u001b[1;32mIn[32], line 2\u001b[0m\n\u001b[0;32m      1\u001b[0m arr \u001b[39m=\u001b[39m [\u001b[39m11\u001b[39m, \u001b[39m12\u001b[39m, \u001b[39m33\u001b[39m, \u001b[39m22\u001b[39m]\n\u001b[1;32m----> 2\u001b[0m insertion_sort(arr)\n",
      "Cell \u001b[1;32mIn[31], line 9\u001b[0m, in \u001b[0;36minsertion_sort\u001b[1;34m(lst)\u001b[0m\n\u001b[0;32m      7\u001b[0m \u001b[39mfor\u001b[39;00m j \u001b[39min\u001b[39;00m lst:\n\u001b[0;32m      8\u001b[0m     \u001b[39mif\u001b[39;00m j \u001b[39m>\u001b[39m i:\n\u001b[1;32m----> 9\u001b[0m         position \u001b[39m=\u001b[39m final_sorted\u001b[39m.\u001b[39;49mindex(i)\n\u001b[0;32m     10\u001b[0m         final_sorted\u001b[39m.\u001b[39minsert(j, position)\n\u001b[0;32m     11\u001b[0m         \u001b[39mbreak\u001b[39;00m \n",
      "\u001b[1;31mValueError\u001b[0m: 12 is not in list"
     ]
    }
   ],
   "source": [
    "arr = [11, 12, 33, 22]\n",
    "insertion_sort(arr)"
   ]
  },
  {
   "cell_type": "code",
   "execution_count": 1,
   "metadata": {},
   "outputs": [],
   "source": [
    "## Insersion sort \n",
    "\n",
    "arr = [11, 12, 23, 34, 31, 90, 33]\n",
    "\n",
    "def insertion_sort(arr):\n",
    "    n = len(arr)\n",
    "\n",
    "    for current in range(1, n):\n",
    "        current_card = arr[current]\n",
    "        correct_position = current-1\n",
    "\n",
    "        while correct_position >= 0:\n",
    "            if (arr[correct_position] <= current_card):\n",
    "                break \n",
    "            else:\n",
    "                arr[correct_position+1] = arr[correct_position]\n",
    "                correct_position-=1\n",
    "\n",
    "            arr[correct_position + 1] = current_card\n",
    "\n",
    "    return arr\n",
    "\n",
    "\n"
   ]
  },
  {
   "cell_type": "code",
   "execution_count": 2,
   "metadata": {},
   "outputs": [
    {
     "name": "stdout",
     "output_type": "stream",
     "text": [
      "[11, 12, 23, 31, 33, 34, 90]\n"
     ]
    }
   ],
   "source": [
    "arr_new = insertion_sort(arr)\n",
    "print(arr_new)"
   ]
  },
  {
   "cell_type": "code",
   "execution_count": 8,
   "metadata": {},
   "outputs": [],
   "source": [
    "def next_greatest_letter(letters, target):\n",
    "    new_letters = [i for i in letters if i > target]\n",
    "    if len(new_letters) == 0:\n",
    "        smallest = letters[0]\n",
    "        for k in letters:\n",
    "            if k < smallest:\n",
    "                smallest = k\n",
    "        return smallest\n",
    "    else:\n",
    "        smallest = new_letters[0]\n",
    "        for j in new_letters:\n",
    "            if j < smallest:\n",
    "                smallest = j \n",
    "        return smallest"
   ]
  },
  {
   "cell_type": "code",
   "execution_count": 9,
   "metadata": {},
   "outputs": [
    {
     "data": {
      "text/plain": [
       "'c'"
      ]
     },
     "execution_count": 9,
     "metadata": {},
     "output_type": "execute_result"
    }
   ],
   "source": [
    "next_greatest_letter(['c', 'f', 'j'], \"k\")"
   ]
  },
  {
   "cell_type": "code",
   "execution_count": null,
   "metadata": {},
   "outputs": [],
   "source": []
  }
 ],
 "metadata": {
  "kernelspec": {
   "display_name": "base",
   "language": "python",
   "name": "python3"
  },
  "language_info": {
   "codemirror_mode": {
    "name": "ipython",
    "version": 3
   },
   "file_extension": ".py",
   "mimetype": "text/x-python",
   "name": "python",
   "nbconvert_exporter": "python",
   "pygments_lexer": "ipython3",
   "version": "3.9.12"
  },
  "orig_nbformat": 4
 },
 "nbformat": 4,
 "nbformat_minor": 2
}
