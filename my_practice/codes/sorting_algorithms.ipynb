{
 "cells": [
  {
   "cell_type": "code",
   "execution_count": 1,
   "metadata": {},
   "outputs": [],
   "source": [
    "## Bubble short algorithm "
   ]
  },
  {
   "cell_type": "code",
   "execution_count": 3,
   "metadata": {},
   "outputs": [],
   "source": [
    "## Sol 1 (less effective)\n",
    "\n",
    "def bubble_sort(lst):\n",
    "    passes = len(lst)\n",
    "    print(passes)\n",
    "    while passes > 1:\n",
    "        for index in range(passes-1):\n",
    "            if lst[index] > lst[index+1]:\n",
    "                print(lst[index] ,lst[index+1])\n",
    "                lst[index], lst[index+1] = lst[index+1], lst[index]\n",
    "                print(lst[index] ,lst[index+1])\n",
    "            if lst[passes-1] == max(lst[0: passes]):\n",
    "                print(\"max_set\")\n",
    "                passes -= 1\n",
    "                print(passes)\n",
    "    \n",
    "    return lst"
   ]
  },
  {
   "cell_type": "code",
   "execution_count": 4,
   "metadata": {},
   "outputs": [
    {
     "name": "stdout",
     "output_type": "stream",
     "text": [
      "5\n",
      "11 5\n",
      "5 11\n",
      "11 4\n",
      "4 11\n",
      "max_set\n",
      "4\n",
      "5 4\n",
      "4 5\n",
      "max_set\n",
      "3\n",
      "max_set\n",
      "2\n",
      "max_set\n",
      "1\n"
     ]
    },
    {
     "data": {
      "text/plain": [
       "[1, 2, 4, 5, 11]"
      ]
     },
     "execution_count": 4,
     "metadata": {},
     "output_type": "execute_result"
    }
   ],
   "source": [
    "bubble_sort([1,2,11,5,4])"
   ]
  },
  {
   "cell_type": "code",
   "execution_count": 5,
   "metadata": {},
   "outputs": [],
   "source": [
    "def bubble_sort(lst):\n",
    "    passes = len(lst)\n",
    "    for pass_ in range(0, passes-1):\n",
    "        for index in range(passes-1-pass_):\n",
    "            if lst[index] > lst[index+1]:\n",
    "                print(lst[index] ,lst[index+1])\n",
    "                lst[index], lst[index+1] = lst[index+1], lst[index]\n",
    "                print(lst[index] ,lst[index+1])\n",
    "    \n",
    "    return lst"
   ]
  },
  {
   "cell_type": "code",
   "execution_count": 6,
   "metadata": {},
   "outputs": [
    {
     "name": "stdout",
     "output_type": "stream",
     "text": [
      "11 5\n",
      "5 11\n",
      "11 4\n",
      "4 11\n",
      "5 4\n",
      "4 5\n"
     ]
    },
    {
     "data": {
      "text/plain": [
       "[1, 2, 4, 5, 11]"
      ]
     },
     "execution_count": 6,
     "metadata": {},
     "output_type": "execute_result"
    }
   ],
   "source": [
    "bubble_sort([1,2,11,5,4])"
   ]
  },
  {
   "cell_type": "code",
   "execution_count": 7,
   "metadata": {},
   "outputs": [],
   "source": [
    "## Selection short Algorithm"
   ]
  },
  {
   "cell_type": "code",
   "execution_count": 8,
   "metadata": {},
   "outputs": [],
   "source": [
    "def selection_sort(lst):\n",
    "    length = len(lst)\n",
    "    \n",
    "    for i in range(0, length-1):\n",
    "        min_value  = lst[i]\n",
    "        print(min_value, \"min val\")\n",
    "        min_value_index = i\n",
    "        print(min_value_index, \"min val index\")\n",
    "        for j in range(i+1, length):\n",
    "            if lst[j] < min_value:\n",
    "                print(\"min val : \", min_value, \"Comapre with : \", lst[j])\n",
    "                min_value = lst[j]\n",
    "                min_value_index=j \n",
    "        lst[i], lst[min_value_index] = lst[min_value_index], lst[i]\n",
    "        print(f\" New min value {min_value} with index {min_value_index} replaced with index {lst[i]}\")\n",
    "    return lst"
   ]
  },
  {
   "cell_type": "code",
   "execution_count": 9,
   "metadata": {},
   "outputs": [
    {
     "name": "stdout",
     "output_type": "stream",
     "text": [
      "6 min val\n",
      "0 min val index\n",
      "min val :  6 Comapre with :  5\n",
      "min val :  5 Comapre with :  4\n",
      "min val :  4 Comapre with :  3\n",
      "min val :  3 Comapre with :  2\n",
      "min val :  2 Comapre with :  1\n",
      " New min value 1 with index 5 replaced with index 1\n",
      "5 min val\n",
      "1 min val index\n",
      "min val :  5 Comapre with :  4\n",
      "min val :  4 Comapre with :  3\n",
      "min val :  3 Comapre with :  2\n",
      " New min value 2 with index 4 replaced with index 2\n",
      "4 min val\n",
      "2 min val index\n",
      "min val :  4 Comapre with :  3\n",
      " New min value 3 with index 3 replaced with index 3\n",
      "4 min val\n",
      "3 min val index\n",
      " New min value 4 with index 3 replaced with index 4\n",
      "5 min val\n",
      "4 min val index\n",
      " New min value 5 with index 4 replaced with index 5\n"
     ]
    },
    {
     "data": {
      "text/plain": [
       "[1, 2, 3, 4, 5, 6]"
      ]
     },
     "execution_count": 9,
     "metadata": {},
     "output_type": "execute_result"
    }
   ],
   "source": [
    "selection_sort([6,5,4,3,2,1])"
   ]
  },
  {
   "cell_type": "code",
   "execution_count": null,
   "metadata": {},
   "outputs": [],
   "source": []
  }
 ],
 "metadata": {
  "kernelspec": {
   "display_name": "Python 3",
   "language": "python",
   "name": "python3"
  },
  "language_info": {
   "codemirror_mode": {
    "name": "ipython",
    "version": 3
   },
   "file_extension": ".py",
   "mimetype": "text/x-python",
   "name": "python",
   "nbconvert_exporter": "python",
   "pygments_lexer": "ipython3",
   "version": "3.9.12"
  },
  "orig_nbformat": 4
 },
 "nbformat": 4,
 "nbformat_minor": 2
}
